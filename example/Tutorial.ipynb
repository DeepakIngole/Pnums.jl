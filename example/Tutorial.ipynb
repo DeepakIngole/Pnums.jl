{
 "cells": [
  {
   "cell_type": "markdown",
   "metadata": {},
   "source": [
    "# Introduction to Pnums"
   ]
  },
  {
   "cell_type": "code",
   "execution_count": 1,
   "metadata": {
    "collapsed": true
   },
   "outputs": [],
   "source": [
    "using Pnums"
   ]
  },
  {
   "cell_type": "markdown",
   "metadata": {},
   "source": [
    "The 3 bit Pnums contain the values -1, 0, 1, /0 (Gustafson's notation for Infinity), and the open intervals between these values."
   ]
  },
  {
   "cell_type": "code",
   "execution_count": 2,
   "metadata": {
    "collapsed": false
   },
   "outputs": [
    {
     "data": {
      "text/plain": [
       "8-element Array{Union{Int64,Pnums.Pbound{Pnums.Pnum3},Pnums.Pnum3},1}:\n",
       " pn3\"(/0, -1)\"\n",
       "       pn3\"-1\"\n",
       "  pn3\"(-1, 0)\"\n",
       "        pn3\"0\"\n",
       "   pn3\"(0, 1)\"\n",
       "        pn3\"1\"\n",
       "  pn3\"(1, /0)\"\n",
       "       pn3\"/0\""
      ]
     },
     "execution_count": 2,
     "metadata": {},
     "output_type": "execute_result"
    }
   ],
   "source": [
    "[x for x in eachpnum(Pnum3)]"
   ]
  },
  {
   "cell_type": "markdown",
   "metadata": {},
   "source": [
    "The corresponding Pbounds represent contiguous intervals with Pnums as endpoints:"
   ]
  },
  {
   "cell_type": "code",
   "execution_count": 3,
   "metadata": {
    "collapsed": false
   },
   "outputs": [
    {
     "data": {
      "text/plain": [
       "pb3\"[0, 1]\""
      ]
     },
     "execution_count": 3,
     "metadata": {},
     "output_type": "execute_result"
    }
   ],
   "source": [
    "Pbound(pn3\"0\", pn3\"1\")"
   ]
  },
  {
   "cell_type": "markdown",
   "metadata": {},
   "source": [
    "In this case, the endpoints are exact values, and so the Pbound is a closed interval. Using an inexact pnum as an endpoint produces an interval with an open endpoint. One or both endpoints can be open."
   ]
  },
  {
   "cell_type": "code",
   "execution_count": 4,
   "metadata": {
    "collapsed": false
   },
   "outputs": [
    {
     "data": {
      "text/plain": [
       "3-element Array{Pnums.Pbound{Pnums.Pnum3},1}:\n",
       " pb3\"(0, 1]\"\n",
       " pb3\"[0, 1)\"\n",
       " pb3\"(0, 1)\""
      ]
     },
     "execution_count": 4,
     "metadata": {},
     "output_type": "execute_result"
    }
   ],
   "source": [
    "[\n",
    "    Pbound(pn3\"(0, 1)\", pn3\"1\"),\n",
    "    Pbound(pn3\"0\", pn3\"(0, 1)\"),\n",
    "    Pbound(pn3\"(0, 1)\")\n",
    "]"
   ]
  },
  {
   "cell_type": "markdown",
   "metadata": {},
   "source": [
    "A special feature of Unums 2.0 (and Pnums) is that intervals can span infinity. This is represented by an interval with a left endpoint that is smaller than its right endpoint, using the convention that intervals always move counter-clockwise around the projective circle from their left endpoint to their right endpoint"
   ]
  },
  {
   "cell_type": "code",
   "execution_count": 5,
   "metadata": {
    "collapsed": false
   },
   "outputs": [
    {
     "data": {
      "text/plain": [
       "pb3\"[1, -1]\""
      ]
     },
     "execution_count": 5,
     "metadata": {},
     "output_type": "execute_result"
    }
   ],
   "source": [
    "Pbound3(1, -1)"
   ]
  },
  {
   "cell_type": "code",
   "execution_count": 6,
   "metadata": {
    "collapsed": false
   },
   "outputs": [
    {
     "data": {
      "text/plain": [
       "true"
      ]
     },
     "execution_count": 6,
     "metadata": {},
     "output_type": "execute_result"
    }
   ],
   "source": [
    "pn3\"/0\" in pb3\"[1, -1]\""
   ]
  },
  {
   "cell_type": "code",
   "execution_count": 7,
   "metadata": {
    "collapsed": false
   },
   "outputs": [
    {
     "data": {
      "text/plain": [
       "false"
      ]
     },
     "execution_count": 7,
     "metadata": {},
     "output_type": "execute_result"
    }
   ],
   "source": [
    "pn3\"0\" in pb3\"[1, -1]\""
   ]
  },
  {
   "cell_type": "markdown",
   "metadata": {},
   "source": [
    "Pbounds may also contain the entire projective circle, or be empty (each Pbound stores a flag internally that determines whether it is empty)."
   ]
  },
  {
   "cell_type": "code",
   "execution_count": 8,
   "metadata": {
    "collapsed": false
   },
   "outputs": [
    {
     "data": {
      "text/plain": [
       "2-element Array{Pnums.Pbound{Pnums.Pnum3},1}:\n",
       " pb3\"everything\"\n",
       "      pb3\"empty\""
      ]
     },
     "execution_count": 8,
     "metadata": {},
     "output_type": "execute_result"
    }
   ],
   "source": [
    "[\n",
    "    pb3\"everything\"\n",
    "    pb3\"empty\"\n",
    "]"
   ]
  },
  {
   "cell_type": "markdown",
   "metadata": {},
   "source": [
    "It's nice to be able to represent the difference between \"empty\" and \"everything\". Floating point numbers use NaN in both cases."
   ]
  },
  {
   "cell_type": "code",
   "execution_count": 9,
   "metadata": {
    "collapsed": false
   },
   "outputs": [
    {
     "data": {
      "text/plain": [
       "pb3\"empty\""
      ]
     },
     "execution_count": 9,
     "metadata": {},
     "output_type": "execute_result"
    }
   ],
   "source": [
    "sqrt(pn3\"-1\")"
   ]
  },
  {
   "cell_type": "code",
   "execution_count": 10,
   "metadata": {
    "collapsed": false
   },
   "outputs": [
    {
     "data": {
      "text/plain": [
       "pb3\"everything\""
      ]
     },
     "execution_count": 10,
     "metadata": {},
     "output_type": "execute_result"
    }
   ],
   "source": [
    "pn3\"0\"/pn3\"0\""
   ]
  },
  {
   "cell_type": "markdown",
   "metadata": {},
   "source": [
    "(the rationale for `0/0 = everything` is that any real number x is a solution to `0*x = 0`)"
   ]
  },
  {
   "cell_type": "markdown",
   "metadata": {},
   "source": [
    "Having \"empty\" instead of NaN allows us to get sensible answers in problems where part of the input lies outside the domain of a function:"
   ]
  },
  {
   "cell_type": "code",
   "execution_count": 11,
   "metadata": {
    "collapsed": false
   },
   "outputs": [
    {
     "data": {
      "text/plain": [
       "pb3\"[0, 1)\""
      ]
     },
     "execution_count": 11,
     "metadata": {},
     "output_type": "execute_result"
    }
   ],
   "source": [
    "sqrt(pb3\"(-1, 1)\")"
   ]
  },
  {
   "cell_type": "markdown",
   "metadata": {},
   "source": [
    "Notice that in this case, the input had open endpoints, but the output has 1 closed endpoint and 1 open endpoint."
   ]
  },
  {
   "cell_type": "markdown",
   "metadata": {},
   "source": [
    "Arithmetic operations between Pnums produce Pbounds, because arithmetic on inexact Pnums can produce intervals that span multiple Pnums."
   ]
  },
  {
   "cell_type": "code",
   "execution_count": 12,
   "metadata": {
    "collapsed": false
   },
   "outputs": [
    {
     "data": {
      "text/plain": [
       "pb3\"(0, /0)\""
      ]
     },
     "execution_count": 12,
     "metadata": {},
     "output_type": "execute_result"
    }
   ],
   "source": [
    "2*pn3\"(0, 1)\""
   ]
  },
  {
   "cell_type": "markdown",
   "metadata": {},
   "source": [
    "Arithmetic is closed on Pbounds, *including dividing by bounds that contain 0*."
   ]
  },
  {
   "cell_type": "code",
   "execution_count": 13,
   "metadata": {
    "collapsed": false
   },
   "outputs": [
    {
     "data": {
      "text/plain": [
       "pb3\"(1, -1)\""
      ]
     },
     "execution_count": 13,
     "metadata": {},
     "output_type": "execute_result"
    }
   ],
   "source": [
    "1/pb3\"(-1, 1)\""
   ]
  },
  {
   "cell_type": "markdown",
   "metadata": {},
   "source": [
    "This is probably the best thing about working with projective reals. Traditional intervals would have to report [-Inf, Inf] for this calculation."
   ]
  },
  {
   "cell_type": "code",
   "execution_count": 14,
   "metadata": {
    "collapsed": false
   },
   "outputs": [
    {
     "data": {
      "text/plain": [
       "(false,true)"
      ]
     },
     "execution_count": 14,
     "metadata": {},
     "output_type": "execute_result"
    }
   ],
   "source": [
    "let x = 1/pb3\"(-1, 1)\"\n",
    "    0.5 in x, 2 in x\n",
    "end"
   ]
  },
  {
   "cell_type": "markdown",
   "metadata": {},
   "source": [
    "### Zeros and extrema"
   ]
  },
  {
   "cell_type": "markdown",
   "metadata": {},
   "source": [
    "Finding (both) square roots of 2:"
   ]
  },
  {
   "cell_type": "code",
   "execution_count": 24,
   "metadata": {
    "collapsed": false
   },
   "outputs": [
    {
     "data": {
      "text/plain": [
       "2-element Array{Pnums.Pbound{Pnums.Pnum16},1}:\n",
       " pb16\"(-363/256, -181/128)\"\n",
       "   pb16\"(181/128, 363/256)\""
      ]
     },
     "execution_count": 24,
     "metadata": {},
     "output_type": "execute_result"
    }
   ],
   "source": [
    "findroots(x->x^2-2, pb16\"everything\")"
   ]
  },
  {
   "cell_type": "code",
   "execution_count": 25,
   "metadata": {
    "collapsed": false
   },
   "outputs": [
    {
     "name": "stdout",
     "output_type": "stream",
     "text": [
      "(-1.4179688, -1.4140625)\n",
      "(1.4140625, 1.4179688)\n"
     ]
    }
   ],
   "source": [
    "findroots(x->x^2-2, pb16\"everything\") |> Pnums.print_decimal"
   ]
  },
  {
   "cell_type": "markdown",
   "metadata": {},
   "source": [
    "Notice that this is *global* search:"
   ]
  },
  {
   "cell_type": "code",
   "execution_count": 16,
   "metadata": {
    "collapsed": false
   },
   "outputs": [
    {
     "data": {
      "text/plain": [
       "1-element Array{Pnums.Pbound{Pnums.Pnum8},1}:\n",
       " pb8\"/0\""
      ]
     },
     "execution_count": 16,
     "metadata": {},
     "output_type": "execute_result"
    }
   ],
   "source": [
    "findroots(x->1/x, pb8\"everything\")"
   ]
  },
  {
   "cell_type": "markdown",
   "metadata": {},
   "source": [
    "We can distinguish poles from roots, and deal with intermediate infinities"
   ]
  },
  {
   "cell_type": "code",
   "execution_count": 17,
   "metadata": {
    "collapsed": false
   },
   "outputs": [
    {
     "data": {
      "text/plain": [
       "1-element Array{Pnums.Pbound{Pnums.Pnum8},1}:\n",
       " pb8\"/2\""
      ]
     },
     "execution_count": 17,
     "metadata": {},
     "output_type": "execute_result"
    }
   ],
   "source": [
    "findroots(x->1/(1/(x-1/2)+2), pb8\"everything\")"
   ]
  },
  {
   "cell_type": "markdown",
   "metadata": {},
   "source": [
    "Note that the \"dependency\" problem can damage our ability to find roots precisely"
   ]
  },
  {
   "cell_type": "code",
   "execution_count": 18,
   "metadata": {
    "collapsed": false
   },
   "outputs": [
    {
     "data": {
      "text/plain": [
       "2-element Array{Pnums.Pbound{Pnums.Pnum8},1}:\n",
       " pb8\"-1\"\n",
       "  pb8\"2\""
      ]
     },
     "execution_count": 18,
     "metadata": {},
     "output_type": "execute_result"
    }
   ],
   "source": [
    "findroots(x->(x+1)*(x-2), pb8\"everything\")"
   ]
  },
  {
   "cell_type": "code",
   "execution_count": 26,
   "metadata": {
    "collapsed": false
   },
   "outputs": [
    {
     "name": "stdout",
     "output_type": "stream",
     "text": [
      "-1.0\n",
      "(1.75, 2.5)\n",
      "(192.0, Inf]\n"
     ]
    }
   ],
   "source": [
    "findroots(x->x^2 - x - 2, pb8\"everything\") |> Pnums.print_decimal"
   ]
  },
  {
   "cell_type": "markdown",
   "metadata": {},
   "source": [
    "The last solution shows up because `/0 - /0 = everything`, so we can't rule out infinity as a solution in many problems involving addition or subtraction."
   ]
  },
  {
   "cell_type": "code",
   "execution_count": 20,
   "metadata": {
    "collapsed": false
   },
   "outputs": [
    {
     "data": {
      "text/plain": [
       "pb8\"everything\""
      ]
     },
     "execution_count": 20,
     "metadata": {},
     "output_type": "execute_result"
    }
   ],
   "source": [
    "pn8\"/0\" - pn8\"/0\""
   ]
  },
  {
   "cell_type": "code",
   "execution_count": 21,
   "metadata": {
    "collapsed": false
   },
   "outputs": [
    {
     "data": {
      "text/plain": [
       "1-element Array{Pnums.Pbound{Pnums.Pnum8},1}:\n",
       " pb8\"3\""
      ]
     },
     "execution_count": 21,
     "metadata": {},
     "output_type": "execute_result"
    }
   ],
   "source": [
    "findmaximum(x->4-(x-3)^2, pb8\"everything\")"
   ]
  },
  {
   "cell_type": "markdown",
   "metadata": {},
   "source": [
    "Another annoying aspect of the dependency problem is that it can cause solution sets to split into many disjoint pieces"
   ]
  },
  {
   "cell_type": "code",
   "execution_count": 27,
   "metadata": {
    "collapsed": false
   },
   "outputs": [
    {
     "name": "stdout",
     "output_type": "stream",
     "text": [
      "(-0.5, -0.4)\n",
      "(-0.33333334, -0.2)\n",
      "(-0.2, 0.25)\n",
      "(0.25, 0.5)\n",
      "(0.5, 0.5714286)\n",
      "(0.6666667, 0.8)\n",
      "(192.0, Inf]\n"
     ]
    }
   ],
   "source": [
    "findmaximum(x->x-exp(x), pb8\"everything\") |> Pnums.print_decimal"
   ]
  },
  {
   "cell_type": "markdown",
   "metadata": {},
   "source": [
    "Increasing precision reduces the range of answers, but exacerbates the broken-up-set problem:"
   ]
  },
  {
   "cell_type": "code",
   "execution_count": 29,
   "metadata": {
    "collapsed": false
   },
   "outputs": [
    {
     "name": "stdout",
     "output_type": "stream",
     "text": [
      "(-0.082474224, -0.08226221)\n",
      "(-0.07920792, -0.07881773)\n",
      "(-0.07582939, -0.07511737)\n",
      "(-0.07256236, -0.07158837)\n",
      "(-0.06911447, -0.067940556)\n",
      "(-0.06570842, -0.064257026)\n",
      "(-0.0625, -0.060606062)\n",
      "(-0.05882353, -0.0569395)\n",
      "(-0.055363324, -0.053156145)\n",
      "(-0.051948052, -0.049382716)\n",
      "(-0.04833837, -0.045714285)\n",
      "(-0.04481793, -0.04199475)\n",
      "(-0.041237112, -0.03827751)\n",
      "(-0.037647057, -0.03448276)\n",
      "(-0.033970278, -0.03076923)\n",
      "(-0.030303031, -0.026936026)\n",
      "(-0.026666667, -0.023121387)\n",
      "(-0.022922637, -0.019323671)\n",
      "(-0.019184653, -0.015503876)\n",
      "(-0.015384615, -0.011627907)\n",
      "(-0.011594203, -0.007782101)\n",
      "(-0.007751938, -0.0038910506)\n",
      "(-0.0038910506, 0.00390625)\n",
      "(0.00390625, 0.0078125)\n",
      "(0.0078125, 0.011661808)\n",
      "(0.0116959065, 0.015564202)\n",
      "(0.015625, 0.01937046)\n",
      "(0.019512195, 0.023188407)\n",
      "(0.023391813, 0.027027028)\n",
      "(0.027303753, 0.03088803)\n",
      "(0.03125, 0.034557234)\n",
      "(0.03508772, 0.038369305)\n",
      "(0.03902439, 0.042105265)\n",
      "(0.042895444, 0.045845274)\n",
      "(0.046783626, 0.049535602)\n",
      "(0.050632913, 0.053333335)\n",
      "(0.054607507, 0.057142857)\n",
      "(0.05839416, 0.0608365)\n",
      "(0.0625, 0.064386316)\n",
      "(0.066390045, 0.068085104)\n",
      "(0.07017544, 0.07174888)\n",
      "(0.074074075, 0.075294115)\n",
      "(0.07804878, 0.07901235)\n",
      "(0.08184143, 0.082474224)\n",
      "(0.08579089, 0.08625337)\n",
      "(4.27819e9, Inf]\n"
     ]
    }
   ],
   "source": [
    "findmaximum(x->x-exp(x), pb16\"everything\") |> Pnums.print_decimal"
   ]
  },
  {
   "cell_type": "code",
   "execution_count": null,
   "metadata": {
    "collapsed": true
   },
   "outputs": [],
   "source": []
  }
 ],
 "metadata": {
  "kernelspec": {
   "display_name": "Julia 0.4.3",
   "language": "julia",
   "name": "julia-0.4"
  },
  "language_info": {
   "file_extension": ".jl",
   "mimetype": "application/julia",
   "name": "julia",
   "version": "0.4.3"
  }
 },
 "nbformat": 4,
 "nbformat_minor": 0
}
